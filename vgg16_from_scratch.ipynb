{
  "nbformat": 4,
  "nbformat_minor": 0,
  "metadata": {
    "colab": {
      "name": "vgg16 from scratch.ipynb",
      "provenance": [],
      "collapsed_sections": [],
      "authorship_tag": "ABX9TyNZ8JlPbafUCuuUuFUNbsei",
      "include_colab_link": true
    },
    "kernelspec": {
      "name": "python3",
      "display_name": "Python 3"
    }
  },
  "cells": [
    {
      "cell_type": "markdown",
      "metadata": {
        "id": "view-in-github",
        "colab_type": "text"
      },
      "source": [
        "<a href=\"https://colab.research.google.com/github/Ankan1998/paper-implementation/blob/main/vgg16_from_scratch.ipynb\" target=\"_parent\"><img src=\"https://colab.research.google.com/assets/colab-badge.svg\" alt=\"Open In Colab\"/></a>"
      ]
    },
    {
      "cell_type": "code",
      "metadata": {
        "id": "aDteYLsNUXWl"
      },
      "source": [
        "import torch \r\n",
        "import torch.nn as nn"
      ],
      "execution_count": 15,
      "outputs": []
    },
    {
      "cell_type": "code",
      "metadata": {
        "id": "gmSjW1gpUglX"
      },
      "source": [
        "def double_conv(in_c,out_c):\r\n",
        "    d_conv=nn.Sequential(\r\n",
        "          nn.Conv2d(in_c,out_c,kernel_size=3,padding=1),\r\n",
        "          nn.ReLU(inplace=True),\r\n",
        "          nn.Conv2d(out_c,out_c,kernel_size=3,padding=1),\r\n",
        "          nn.ReLU(inplace=True)\r\n",
        "        )\r\n",
        "    return d_conv\r\n",
        "\r\n",
        "\r\n",
        "def triple_conv(in_c,out_c):\r\n",
        "    t_conv=nn.Sequential(\r\n",
        "          nn.Conv2d(in_c,out_c,kernel_size=3,padding=1),\r\n",
        "          nn.ReLU(inplace=True),\r\n",
        "          nn.Conv2d(out_c,out_c,kernel_size=3,padding=1),\r\n",
        "          nn.ReLU(inplace=True),\r\n",
        "          nn.Conv2d(out_c,out_c,kernel_size=3,padding=1),\r\n",
        "          nn.ReLU(inplace=True)\r\n",
        "        )\r\n",
        "    return t_conv\r\n",
        "\r\n",
        "\r\n",
        "class vgg16(nn.Module):\r\n",
        "\r\n",
        "  def __init__(self,num_of_classes):\r\n",
        "    super().__init__()\r\n",
        "\r\n",
        "    self.num_of_classes=num_of_classes\r\n",
        "\r\n",
        "    # Conv Layer\r\n",
        "    self.mpool2d=nn.MaxPool2d(kernel_size=2, stride=2)\r\n",
        "    self.dconv1=double_conv(3,64)\r\n",
        "    self.dconv2=double_conv(64,128)\r\n",
        "    self.tconv1=triple_conv(128,256)\r\n",
        "    self.tconv2=triple_conv(256,512)\r\n",
        "    self.tconv3=triple_conv(512,512)\r\n",
        "\r\n",
        "    #Linear Layer\r\n",
        "    self.flat=nn.Flatten()\r\n",
        "    self.relu=nn.ReLU()\r\n",
        "    self.fc1=nn.Linear(7*7*512,4096)\r\n",
        "    self.fc2=nn.Linear(4096,4096)\r\n",
        "    self.last=nn.Linear(4096,self.num_of_classes)\r\n",
        "\r\n",
        "\r\n",
        "\r\n",
        "\r\n",
        "  def forward(self,x):\r\n",
        "    print(\"start\",x.shape)\r\n",
        "    x=self.dconv1(x)\r\n",
        "    x=self.mpool2d(x)\r\n",
        "    x=self.dconv2(x)\r\n",
        "    x=self.mpool2d(x)\r\n",
        "    x=self.tconv1(x)\r\n",
        "    x=self.mpool2d(x)\r\n",
        "    x=self.tconv2(x)\r\n",
        "    x=self.mpool2d(x)\r\n",
        "    x=self.tconv3(x)\r\n",
        "    x=self.mpool2d(x)\r\n",
        "    x=self.flat(x)\r\n",
        "    x=self.fc1(x)\r\n",
        "    x=self.relu(x)\r\n",
        "    x=self.fc2(x)\r\n",
        "    x=self.relu(x)\r\n",
        "    x=self.last(x)\r\n",
        "\r\n",
        "    print(\"final\",x.shape)\r\n",
        "\r\n",
        "    return x\r\n",
        "\r\n",
        "\r\n",
        "\r\n",
        "\r\n",
        "\r\n"
      ],
      "execution_count": 16,
      "outputs": []
    },
    {
      "cell_type": "code",
      "metadata": {
        "id": "W8qnZ51akBr-"
      },
      "source": [
        "model=vgg16(9)"
      ],
      "execution_count": 17,
      "outputs": []
    },
    {
      "cell_type": "code",
      "metadata": {
        "colab": {
          "base_uri": "https://localhost:8080/"
        },
        "id": "sLfiHOn_kN5y",
        "outputId": "9ccfd9c0-113d-45c4-8f6b-cf925811a1df"
      },
      "source": [
        "image=torch.rand((1,3,224,224))\r\n",
        "model(image)"
      ],
      "execution_count": 20,
      "outputs": [
        {
          "output_type": "stream",
          "text": [
            "start torch.Size([1, 3, 224, 224])\n",
            "final torch.Size([1, 9])\n"
          ],
          "name": "stdout"
        },
        {
          "output_type": "execute_result",
          "data": {
            "text/plain": [
              "tensor([[ 0.0100, -0.0007,  0.0060,  0.0087, -0.0053, -0.0024, -0.0171,  0.0048,\n",
              "         -0.0056]], grad_fn=<AddmmBackward>)"
            ]
          },
          "metadata": {
            "tags": []
          },
          "execution_count": 20
        }
      ]
    },
    {
      "cell_type": "code",
      "metadata": {
        "id": "GL5-dHvSkVYp"
      },
      "source": [
        ""
      ],
      "execution_count": null,
      "outputs": []
    }
  ]
}