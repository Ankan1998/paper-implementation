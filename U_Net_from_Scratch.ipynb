{
  "nbformat": 4,
  "nbformat_minor": 0,
  "metadata": {
    "colab": {
      "name": "U-Net from Scratch.ipynb",
      "provenance": [],
      "authorship_tag": "ABX9TyPtDmcOiAsphcTtQyIkcjbA",
      "include_colab_link": true
    },
    "kernelspec": {
      "name": "python3",
      "display_name": "Python 3"
    },
    "accelerator": "GPU"
  },
  "cells": [
    {
      "cell_type": "markdown",
      "metadata": {
        "id": "view-in-github",
        "colab_type": "text"
      },
      "source": [
        "<a href=\"https://colab.research.google.com/github/Ankan1998/paper-implementation/blob/main/U_Net_from_Scratch.ipynb\" target=\"_parent\"><img src=\"https://colab.research.google.com/assets/colab-badge.svg\" alt=\"Open In Colab\"/></a>"
      ]
    },
    {
      "cell_type": "markdown",
      "metadata": {
        "id": "CcFnNIIS5O7W"
      },
      "source": [
        "## U-Net Architecture paper implementation from Scratch"
      ]
    },
    {
      "cell_type": "code",
      "metadata": {
        "id": "moa9wcj75kr1"
      },
      "source": [
        "import torch\n",
        "import torch.nn as nn"
      ],
      "execution_count": 1,
      "outputs": []
    },
    {
      "cell_type": "code",
      "metadata": {
        "id": "HkQdTt-A5HZx"
      },
      "source": [
        "class UNet(nn.Module):\n",
        "\n",
        "  def __init__(self):\n",
        "    super().__init__()\n",
        "    # Layers \n"
      ],
      "execution_count": null,
      "outputs": []
    }
  ]
}