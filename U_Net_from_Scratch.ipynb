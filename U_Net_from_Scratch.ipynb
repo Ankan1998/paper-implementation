{
  "nbformat": 4,
  "nbformat_minor": 0,
  "metadata": {
    "colab": {
      "name": "U-Net from Scratch.ipynb",
      "provenance": [],
      "authorship_tag": "ABX9TyO7YKOsiuZbLs9hIMVqmkEl",
      "include_colab_link": true
    },
    "kernelspec": {
      "name": "python3",
      "display_name": "Python 3"
    },
    "accelerator": "GPU"
  },
  "cells": [
    {
      "cell_type": "markdown",
      "metadata": {
        "id": "view-in-github",
        "colab_type": "text"
      },
      "source": [
        "<a href=\"https://colab.research.google.com/github/Ankan1998/paper-implementation/blob/main/U_Net_from_Scratch.ipynb\" target=\"_parent\"><img src=\"https://colab.research.google.com/assets/colab-badge.svg\" alt=\"Open In Colab\"/></a>"
      ]
    },
    {
      "cell_type": "markdown",
      "metadata": {
        "id": "CcFnNIIS5O7W"
      },
      "source": [
        "## U-Net Architecture paper implementation from Scratch"
      ]
    },
    {
      "cell_type": "code",
      "metadata": {
        "id": "moa9wcj75kr1"
      },
      "source": [
        "import torch\n",
        "import torch.nn as nn"
      ],
      "execution_count": 1,
      "outputs": []
    },
    {
      "cell_type": "code",
      "metadata": {
        "id": "HkQdTt-A5HZx"
      },
      "source": [
        "class UNet(nn.Module):\n",
        "\n",
        "  def double_conv(in_c,out_c):\n",
        "    d_conv_seq=nn.Sequential(\n",
        "          nn.Conv2d(in_c,out_c,kernel_size=3),\n",
        "          nn.ReLU(inplace=True),\n",
        "          nn.Conv2d(out_c,out_c,kernel_size=3),\n",
        "          nn.ReLU(inplace=True)\n",
        "        )\n",
        "    return d_conv_seq\n",
        "\n",
        "  def __init__(self):\n",
        "    super().__init__()\n",
        "    # Layers \n",
        "    # 1st part\n",
        "    self.mpool2d=nn.MaxPool2d(kernel_size=3, stride=2)\n",
        "    self.dconv1=d_conv_seq(1,64)\n",
        "    self.dconv1=d_conv_seq(64,128)\n",
        "    self.dconv1=d_conv_seq(128,256)\n",
        "    self.dconv1=d_conv_seq(256,512)\n",
        "    self.dconv1=d_conv_seq(512,1024)\n",
        "\n",
        "    #\n",
        "    \n",
        "\n",
        "\n",
        "    def forward(self,image):\n",
        "      \n",
        "\n",
        "\n",
        "    \n"
      ],
      "execution_count": null,
      "outputs": []
    }
  ]
}